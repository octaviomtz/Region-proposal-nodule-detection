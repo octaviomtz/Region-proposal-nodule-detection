{
 "cells": [
  {
   "cell_type": "markdown",
   "metadata": {},
   "source": [
    "# Overview\n",
    "Generate 2D slices of the nodules and their masks   \n",
    "\n",
    "**v1**\n",
    "1. Input: Reads a scan 3D volume (e.g. LIDC 3D reconstruction 80px v3 - with coords/3Dvolumes/)   \n",
    "1. Output: It saves (in compressed format) the slice located at the middle of each nodule, the corresponding nodule mask (that includes all nodules in the slice and the area outside the lungs), the mask of only the nodule evaluated and the mask of only the area outside the lungs  \n",
    "1. To do: Maybe dilate the nodule mask to remove nodule pixels that are not covered by the mask"
   ]
  },
  {
   "cell_type": "code",
   "execution_count": null,
   "metadata": {},
   "outputs": [],
   "source": [
    "import numpy as np\n",
    "import scipy.sparse as sparse\n",
    "import os\n",
    "import matplotlib.pyplot as plt\n",
    "import pandas as pd\n",
    "from scipy import ndimage\n",
    "from copy import copy\n",
    "import time\n",
    "from skimage import measure, morphology\n",
    "from mpl_toolkits.mplot3d.art3d import Poly3DCollection\n",
    "from matplotlib import rcParams\n",
    "from tqdm import tqdm_notebook\n",
    "from scipy.ndimage.morphology import binary_dilation\n",
    "%matplotlib inline"
   ]
  },
  {
   "cell_type": "markdown",
   "metadata": {},
   "source": [
    "# Functions"
   ]
  },
  {
   "cell_type": "code",
   "execution_count": null,
   "metadata": {},
   "outputs": [],
   "source": [
    "nsh = np.shape"
   ]
  },
  {
   "cell_type": "code",
   "execution_count": null,
   "metadata": {},
   "outputs": [],
   "source": [
    "def plot_3d(image, threshold=-300, alpha=.70, fig_size=10):\n",
    "    \n",
    "    # Position the scan upright, \n",
    "    # so the head of the patient would be at the top facing the camera\n",
    "    p = image.transpose(2,1,0)\n",
    "    \n",
    "    verts, faces, x,y = measure.marching_cubes_lewiner(p, threshold)\n",
    "\n",
    "    fig = plt.figure(figsize=(fig_size, fig_size))\n",
    "    ax = fig.add_subplot(111, projection='3d')\n",
    "\n",
    "    # Fancy indexing: `verts[faces]` to generate a collection of triangles\n",
    "    mesh = Poly3DCollection(verts[faces], alpha=alpha)\n",
    "    face_color = [0.45, 0.45, 0.75]\n",
    "    mesh.set_facecolor(face_color)\n",
    "    ax.add_collection3d(mesh)\n",
    "\n",
    "    ax.set_xlim(0, p.shape[0])\n",
    "    ax.set_ylim(0, p.shape[1])\n",
    "    ax.set_zlim(0, p.shape[2])\n",
    "\n",
    "    plt.show()"
   ]
  },
  {
   "cell_type": "code",
   "execution_count": null,
   "metadata": {},
   "outputs": [],
   "source": [
    "def set_all_rcParams(true_or_false):\n",
    "    rcParams['ytick.left']=true_or_false\n",
    "    rcParams['xtick.bottom']=true_or_false\n",
    "    rcParams['ytick.labelleft'] = true_or_false\n",
    "    rcParams['xtick.labelbottom'] = true_or_false"
   ]
  },
  {
   "cell_type": "code",
   "execution_count": null,
   "metadata": {},
   "outputs": [],
   "source": [
    "def make3d_from_sparse(path):\n",
    "    slices_all = os.listdir(path)\n",
    "    slices_all = np.sort(slices_all)\n",
    "    for idx, i in enumerate(slices_all):\n",
    "        sparse_matrix = sparse.load_npz(f'{path}{i}')\n",
    "        array2d = np.asarray(sparse_matrix.todense())\n",
    "        if idx == 0: \n",
    "            scan3d = array2d\n",
    "            continue\n",
    "        scan3d = np.dstack([scan3d,array2d])\n",
    "    return scan3d"
   ]
  },
  {
   "cell_type": "code",
   "execution_count": null,
   "metadata": {},
   "outputs": [],
   "source": [
    "def plot_3d(image, threshold=-300, alpha=.70, fig_size=10):\n",
    "    \n",
    "    # Position the scan upright, \n",
    "    # so the head of the patient would be at the top facing the camera\n",
    "    p = image.transpose(2,1,0)\n",
    "    \n",
    "    verts, faces, x,y = measure.marching_cubes_lewiner(p, threshold)\n",
    "\n",
    "    fig = plt.figure(figsize=(fig_size, fig_size))\n",
    "    ax = fig.add_subplot(111, projection='3d')\n",
    "\n",
    "    # Fancy indexing: `verts[faces]` to generate a collection of triangles\n",
    "    mesh = Poly3DCollection(verts[faces], alpha=alpha)\n",
    "    face_color = [0.45, 0.45, 0.75]\n",
    "    mesh.set_facecolor(face_color)\n",
    "    ax.add_collection3d(mesh)\n",
    "\n",
    "    ax.set_xlim(0, p.shape[0])\n",
    "    ax.set_ylim(0, p.shape[1])\n",
    "    ax.set_zlim(0, p.shape[2])\n",
    "\n",
    "    plt.show()"
   ]
  },
  {
   "cell_type": "code",
   "execution_count": null,
   "metadata": {},
   "outputs": [],
   "source": [
    "vols_with_segmentation_errors = ['LIDC-IDRI-0116', 'LIDC-IDRI-0136', 'LIDC-IDRI-0146', \n",
    "'LIDC-IDRI-0231', 'LIDC-IDRI-0304', 'LIDC-IDRI-0309', 'LIDC-IDRI-0332', 'LIDC-IDRI-0344', \n",
    "'LIDC-IDRI-0391', 'LIDC-IDRI-0473',  'LIDC-IDRI-0478', 'LIDC-IDRI-0537', 'LIDC-IDRI-0582', \n",
    "'LIDC-IDRI-0612', 'LIDC-IDRI-0621', 'LIDC-IDRI-0652', 'LIDC-IDRI-0655', 'LIDC-IDRI-0797', \n",
    "'LIDC-IDRI-0807', 'LIDC-IDRI-0864', 'LIDC-IDRI-0908', 'LIDC-IDRI-0918']"
   ]
  },
  {
   "cell_type": "markdown",
   "metadata": {},
   "source": [
    "# Loop all patients all nodules"
   ]
  },
  {
   "cell_type": "code",
   "execution_count": null,
   "metadata": {},
   "outputs": [],
   "source": [
    "path_data = f'/data/OMM/Datasets/LIDC_other_formats/LIDC_preprocessed_3D v2/'\n",
    "path_dest='/data/OMM/Datasets/LIDC_other_formats/LIDC slices inpainting v2 - maxvol dilated XX delete/'\n",
    "files = os.listdir(path_data)\n",
    "files = np.sort(files)"
   ]
  },
  {
   "cell_type": "code",
   "execution_count": null,
   "metadata": {},
   "outputs": [],
   "source": [
    "str_3D=np.array([[[1, 1, 1],[1, 1, 1],[1, 1, 1]],\n",
    "                 [[1, 1, 1],[1, 1, 1],[1, 1, 1]],\n",
    "                 [[1, 1, 1],[1, 1, 1],[1, 1, 1]]], dtype='uint8')"
   ]
  },
  {
   "cell_type": "code",
   "execution_count": null,
   "metadata": {},
   "outputs": [],
   "source": [
    "# For each patient, if there are nodules in the scan then get each nodule\n",
    "# For each nodule get the slice that is in the middle of the nodule\n",
    "# Save the slice, \n",
    "# Save the mask (it includes all nodules in the slice and the area outside lungs)\n",
    "# Save the coords of the nodule we are focusing on (for the cases where there are nodules>1)\n",
    "for idx, i in enumerate(files):\n",
    "    # if idx==10: break\n",
    "    idnumber = int(i.split('_')[0][-4:])\n",
    "    df_annotations = pd.read_csv('/data/datasets/LIDC-IDRI/annotations.csv')\n",
    "    df_patient = df_annotations.loc[df_annotations['patientid']==idnumber]\n",
    "    nodules_per_patient = len(np.unique(df_patient['cluster_id'].values))\n",
    "    print(f'nodules_in_patient {i}: {nodules_per_patient}')\n",
    "    if nodules_per_patient >= 1:\n",
    "        lungs = make3d_from_sparse(f'{path_data}{i}/scans/')\n",
    "        mask = make3d_from_sparse(f'{path_data}{i}/maxvol_masks/')\n",
    "        \n",
    "        # rearrange axes to slices first\n",
    "        vol = lungs\n",
    "        vol = np.swapaxes(vol,1,2)\n",
    "        vol = np.swapaxes(vol,0,1)\n",
    "        mask = np.swapaxes(mask,1,2)\n",
    "        mask = np.swapaxes(mask,0,1)\n",
    "        # Find the minimum box that contain the lungs \n",
    "        min_box = np.where(vol!=0)\n",
    "        min_box_c = min_box[0]\n",
    "        min_box_x = min_box[1]\n",
    "        min_box_y = min_box[2]\n",
    "        vol_small = vol[np.min(min_box_c):np.max(min_box_c),np.min(min_box_x):np.max(min_box_x),np.min(min_box_y):np.max(min_box_y)]\n",
    "        # Apply the same minimum box to the mask\n",
    "        mask_small = mask[np.min(min_box_c):np.max(min_box_c),np.min(min_box_x):np.max(min_box_x),np.min(min_box_y):np.max(min_box_y)]\n",
    "        lungs = vol_small\n",
    "        mask = mask_small\n",
    "        \n",
    "        labeled, nr_objects = ndimage.label(mask, structure=str_3D) \n",
    "        for idj, j in enumerate(np.arange(1,nr_objects+1)):\n",
    "            z, y, x = np.where(labeled == j)\n",
    "            take_one_slice = int(np.median(z))\n",
    "            mask_slice_nodule = mask[take_one_slice]\n",
    "            mask_slice_nodule = binary_dilation(mask_slice_nodule)\n",
    "            lungs_slice = lungs[take_one_slice]\n",
    "            # Mask also the region outside the lungs\n",
    "            outside_lungs_tmp = lungs_slice==0\n",
    "            mask_slice = copy(mask_slice_nodule)\n",
    "            mask_slice[outside_lungs_tmp] = 1\n",
    "            # Sometimes one scan has two nodules but we focus on one at a time\n",
    "            focus_one_nodule = copy(outside_lungs_tmp)*1\n",
    "            focus_one_nodule[y,x]=2\n",
    "            # To get the area outside the nodules we cannot only find the 0s (some nodules are 0s)\n",
    "            # So we get the remove the nodule from the \n",
    "            outside_lungs = np.zeros_like(lungs_slice)\n",
    "            str_2D = np.ones((3,3))\n",
    "            labeled_outside, nr_objects_outside = ndimage.label(focus_one_nodule==1, structure=str_2D) \n",
    "            for j in np.arange(1,nr_objects_outside+1):\n",
    "                area_x = np.sum(labeled_outside==j)\n",
    "                if area_x > 3000:\n",
    "                    outside_lungs[labeled_outside==j]=1\n",
    "                    \n",
    "            focus_one_nodule_with_zeros = np.zeros_like(outside_lungs)\n",
    "            focus_one_nodule_with_zeros[y,x]=1\n",
    "            name_main = i.split('_')[0]\n",
    "            new_name = f'{name_main}_nodule_{idj:03d}.npz'\n",
    "            np.savez_compressed(f'{path_dest}lungs/{new_name}', lungs_slice)\n",
    "            np.savez_compressed(f'{path_dest}masks/{new_name}', mask_slice)\n",
    "            np.savez_compressed(f'{path_dest}nodule to focus on/{new_name}', \n",
    "                                focus_one_nodule_with_zeros)\n",
    "            np.savez_compressed(f'{path_dest}outside lungs mask/{new_name}',outside_lungs)"
   ]
  },
  {
   "cell_type": "markdown",
   "metadata": {},
   "source": [
    "# Load saved files"
   ]
  },
  {
   "cell_type": "code",
   "execution_count": null,
   "metadata": {},
   "outputs": [],
   "source": [
    "new_name = 'LIDC-IDRI-0010_nodule_002.npz'\n",
    "ll = np.load(f'{path_dest}lungs/{new_name}')\n",
    "mm = np.load(f'{path_dest}masks/{new_name}')\n",
    "nn = np.load(f'{path_dest}nodule to focus on/{new_name}')\n",
    "mo = np.load(f'{path_dest}outside lungs mask/{new_name}')\n",
    "ll = ll.f.arr_0\n",
    "mm = mm.f.arr_0\n",
    "nn = nn.f.arr_0\n",
    "mo = mo.f.arr_0\n",
    "nn_focus = nn+mm"
   ]
  },
  {
   "cell_type": "code",
   "execution_count": null,
   "metadata": {},
   "outputs": [],
   "source": [
    "set_all_rcParams(False)\n",
    "fig, ax = plt.subplots(1,4,figsize=(14,14))\n",
    "ax[0].imshow(ll)\n",
    "ax[1].imshow(mm)\n",
    "ax[2].imshow(nn_focus)\n",
    "ax[3].imshow(mo)\n",
    "fig.tight_layout()"
   ]
  },
  {
   "cell_type": "code",
   "execution_count": null,
   "metadata": {},
   "outputs": [],
   "source": []
  }
 ],
 "metadata": {
  "kernelspec": {
   "display_name": "Python 3",
   "language": "python",
   "name": "python3"
  },
  "language_info": {
   "codemirror_mode": {
    "name": "ipython",
    "version": 3
   },
   "file_extension": ".py",
   "mimetype": "text/x-python",
   "name": "python",
   "nbconvert_exporter": "python",
   "pygments_lexer": "ipython3",
   "version": "3.6.5"
  },
  "varInspector": {
   "cols": {
    "lenName": 16,
    "lenType": 16,
    "lenVar": 40
   },
   "kernels_config": {
    "python": {
     "delete_cmd_postfix": "",
     "delete_cmd_prefix": "del ",
     "library": "var_list.py",
     "varRefreshCmd": "print(var_dic_list())"
    },
    "r": {
     "delete_cmd_postfix": ") ",
     "delete_cmd_prefix": "rm(",
     "library": "var_list.r",
     "varRefreshCmd": "cat(var_dic_list()) "
    }
   },
   "types_to_exclude": [
    "module",
    "function",
    "builtin_function_or_method",
    "instance",
    "_Feature"
   ],
   "window_display": false
  }
 },
 "nbformat": 4,
 "nbformat_minor": 2
}
