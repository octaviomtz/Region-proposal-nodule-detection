{
 "cells": [
  {
   "cell_type": "markdown",
   "metadata": {},
   "source": [
    "# Modification\n",
    "\n",
    "**v3.6 complement of the preprocessing that should be run after inpainting ** \n",
    "1. We resample along the slices\n",
    "1. We reproduce the inpainting steps (where small cubes where obtained) to obtain the right coordinates of the nodules\n",
    "1. These coordinates are obtained from the pylidc and with the info\n",
    "\n",
    "**dicom full-preprocessing (misc1) v3 - interpolate only 2axes to inpaint**\n",
    "1. We resample along the vertical and horizontal axes but we don't resample along the slices. This creates a smaller volume to apply inpainting. The slices axis has to be resamples later\n",
    "1. We dilate the union of the segmentations\n",
    "1. We dilate the lungs mask with kernel=1 (it was 5)"
   ]
  },
  {
   "cell_type": "code",
   "execution_count": null,
   "metadata": {},
   "outputs": [],
   "source": [
    "# Compared to the previous version (v2), this script removes the scans with bad\n",
    "# slices (>2.5mm or inconsistency between spacing and thickness)\n",
    "\n",
    "import os # module for interfacing with the os\n",
    "import numpy as np # numpy for arrays etc\n",
    "import pandas as pd # module for creating and querying data tables (databases) efficiently\n",
    "import pylidc as pl # module for handling the LIDC dataset\n",
    "import matplotlib.pyplot as plt # plotting utilities\n",
    "import matplotlib.patches as patches\n",
    "import scipy.ndimage # ~\n",
    "import scipy.sparse\n",
    "import scipy\n",
    "from preprocessing.preprocess_functions import *\n",
    "from utils_LIDC.utils_LIDC import *\n",
    "from pylidc.utils import consensus\n",
    "from skimage.morphology import ball, dilation"
   ]
  },
  {
   "cell_type": "code",
   "execution_count": null,
   "metadata": {},
   "outputs": [],
   "source": [
    "from inpainting_nodules_functions import *"
   ]
  },
  {
   "cell_type": "code",
   "execution_count": null,
   "metadata": {},
   "outputs": [],
   "source": [
    "from scipy import sparse\n",
    "from tqdm import tqdm_notebook"
   ]
  },
  {
   "cell_type": "code",
   "execution_count": null,
   "metadata": {},
   "outputs": [],
   "source": [
    "LIDC_PATH = '/data/datasets/LIDC-IDRI/' # original LIDC data\n",
    "# annotations = pd.read_csv('/data/datasets/LIDC-IDRI/annotations.csv')\n",
    "LIDC_IDs = os.listdir(f'{LIDC_PATH}LIDC-IDRI')\n",
    "LIDC_IDs = [i for i in LIDC_IDs if 'LIDC' in i]\n",
    "LIDC_IDs = np.sort(LIDC_IDs)\n",
    "\n",
    "# output path\n",
    "path_dest = f'/data/OMM/Datasets/LIDC_other_formats/LIDC_preprocessed_3D v5 - save pylidc chars only/' \n",
    "path_data_alreadyprocessed = '/data/OMM/Datasets/LIDC_other_formats/LIDC_preprocessed_3D v4 - inpaint before preprocess/'\n",
    "path_already_inpainted = '/data/OMM/project results/Feb 5 19 - Deep image prior/dip results all 17/arrays/'\n",
    "if not os.path.exists(path_dest): os.makedirs(path_dest)"
   ]
  },
  {
   "cell_type": "code",
   "execution_count": null,
   "metadata": {},
   "outputs": [],
   "source": [
    "def nodule_coords_in_small_resampled_versions(df, resampling_ratio, min_box_x, min_box_y, min_box_channels):\n",
    "    '''\n",
    "    Get the coordinates of the nodules in the smaller resampled volumes.\n",
    "    This is done to be able to link each nodule to their pylidc labels\n",
    "    We need to get into account the resampling ratio and the number of voxels used during the\n",
    "    \"Find the minimum box that contain the lungs\" of the \"read_slices3D_v3\" function\n",
    "    '''\n",
    "    pd.options.mode.chained_assignment = None\n",
    "    df['small_coordsZ']=df['lidc_coordZ'].values * resampling_ratio[0] - np.min(min_box_channels)\n",
    "    df['small_coordsX']=df['lidc_coordX'].values * resampling_ratio[1] - np.min(min_box_x)\n",
    "    df['small_coordsY']=df['lidc_coordY'].values * resampling_ratio[2] - np.min(min_box_y)\n",
    "    return df"
   ]
  },
  {
   "cell_type": "code",
   "execution_count": null,
   "metadata": {},
   "outputs": [],
   "source": [
    "def nodule_coords_in_small_resampled_versions2(df, resampling_ratio, min_box_x, min_box_y, min_box_z,\n",
    "                                              slice_middle, xmed_1, ymed_1, xmed_2, ymed_2):\n",
    "    '''\n",
    "    Get the coordinates of the nodules in the smaller resampled volumes.\n",
    "    This is done to be able to link each nodule to their pylidc labels\n",
    "    We need to get into account the resampling ratio and the number of voxels used during the\n",
    "    \"Find the minimum box that contain the lungs\" of the \"read_slices3D_v3\" function\n",
    "    '''\n",
    "    pd.options.mode.chained_assignment = None\n",
    "    # Transform the original coords to small cube coords\n",
    "    COORDZ = (np.mean(df['lidc_coordZ'].values) * resampling_ratio[0]) - np.min(min_box_z)\n",
    "    COORDX = (np.mean(df['lidc_coordX'].values) * resampling_ratio[1]) - np.min(min_box_x)\n",
    "    COORDY = (np.mean(df['lidc_coordY'].values) * resampling_ratio[2]) - np.min(min_box_y)\n",
    "    coords_in_small_cube = np.asarray(COORDZ, COORDX, COORDY)\n",
    "    # Find if nodule is closer to left or right nodule\n",
    "    # MAYBE JUST COMPARE THE Z COORD AGAINST THE SLICE MIDDLE\n",
    "    #coords_center_cube1 = np.asarray(slice_middle, xmed_1, ymed_1)\n",
    "    #coords_center_cube2 = np.asarray(slice_middle, xmed_2, ymed_2)\n",
    "    #dist1 = np.linalg.norm(coords_in_small_cube - coords_center_cube1)\n",
    "    #dist2 = np.linalg.norm(coords_in_small_cube - coords_center_cube2)\n",
    "    #COMPARE ONLY THE Y DIRECTION\n",
    "    dist1=np.abs(COORDY-ymed_1)\n",
    "    dist2=np.abs(COORDY-ymed_2)\n",
    "    if dist1<dist2: \n",
    "        coord_adj_Z = ((df['lidc_coordZ'].values * resampling_ratio[0]) - np.min(min_box_z)) - c_zmin1\n",
    "        coord_adj_X = ((df['lidc_coordX'].values * resampling_ratio[1]) - np.min(min_box_x)) - c_xmin1\n",
    "        coord_adj_Y = ((df['lidc_coordY'].values * resampling_ratio[2]) - np.min(min_box_y)) - c_ymin1\n",
    "        nodule_in_block = 1\n",
    "        #print('1', coord_adj_Z, coord_adj_X, coord_adj_Y)\n",
    "        \n",
    "    else: \n",
    "        coord_adj_Z = ((df['lidc_coordZ'].values * resampling_ratio[0]) - np.min(min_box_z)) - c_zmin2\n",
    "        coord_adj_X = ((df['lidc_coordX'].values * resampling_ratio[1]) - np.min(min_box_x)) - c_xmin2\n",
    "        coord_adj_Y = ((df['lidc_coordY'].values * resampling_ratio[2]) - np.min(min_box_y)) - c_ymin2\n",
    "        nodule_in_block = 2\n",
    "        #print('2', coord_adj_Z, coord_adj_X, coord_adj_Y)\n",
    "    \n",
    "    df['small_coordsZ']= coord_adj_Z\n",
    "    df['small_coordsX']= coord_adj_X\n",
    "    df['small_coordsY']= coord_adj_Y\n",
    "    df['nodule_in_block'] = nodule_in_block \n",
    "    return df, coord_adj_Z, coord_adj_X, coord_adj_Y"
   ]
  },
  {
   "cell_type": "code",
   "execution_count": null,
   "metadata": {},
   "outputs": [],
   "source": [
    "def resample_grid_except_slices(image, spacing, new_spacing=[1,1,1],method='linear'):\n",
    "    '''resample along the vertical and horizontal axes but don't resample along the slices.\n",
    "    This creates a smaller volume to apply inpainting. The slices axis has to be resamples later'''    \n",
    "    x, y, z = [spacing[k] * np.arange(image.shape[k]) for k in range(3)]  # original grid in mm\n",
    "    x = np.arange(np.shape(image)[0]) # we dont interpolate in x direction (slices)\n",
    "    f = scipy.interpolate.RegularGridInterpolator((x, y, z), image)#, method='linear')    # interpolator\n",
    "#    print('Interpolating')\n",
    "\n",
    "    dx, dy, dz = new_spacing    # new step sizes\n",
    "    new_grid = np.mgrid[0:x[-1]+1:dx, 0:y[-1]:dy, 0:z[-1]:dz] # a '+1' is added\n",
    "    new_grid = np.moveaxis(new_grid, (0, 1, 2, 3), (3, 0, 1, 2))  # reorder axes for evaluation\n",
    "    imageOut = f(new_grid)\n",
    "    \n",
    "    # convert back to the same type as input (if it was an int, round first!)\n",
    "    dataType = image.dtype\n",
    "    if np.issubdtype(image[0,0,0],np.signedinteger) or np.issubdtype(image[0,0,0],np.unsignedinteger):\n",
    "        imageOut = np.round(imageOut)\n",
    "        \n",
    "    imageOut = imageOut.astype(dataType)\n",
    "    \n",
    "    return imageOut, new_spacing "
   ]
  },
  {
   "cell_type": "code",
   "execution_count": null,
   "metadata": {},
   "outputs": [],
   "source": [
    "def resample_grid_slices(image, spacing, new_spacing=[1,1,1],method='linear'):\n",
    "    '''DO NOT resample along the vertical and horizontal axes, ONLY resample along the slices.\n",
    "    This is done because before inpainting we applied resampling only to the other two dimensions.\n",
    "    (check resample_grid_except_slices)'''    \n",
    "    x, y, z = [spacing[k] * np.arange(image.shape[k]) for k in range(3)]  # original grid in mm\n",
    "    # we only interpolate in x direction (slices)\n",
    "    y = np.arange(np.shape(image)[1])\n",
    "    z = np.arange(np.shape(image)[2]) \n",
    "    f = scipy.interpolate.RegularGridInterpolator((x, y, z), image)#, method='linear')    # interpolator\n",
    "#    print('Interpolating')\n",
    "\n",
    "    dx, dy, dz = new_spacing    # new step sizes\n",
    "    new_grid = np.mgrid[0:x[-1]:dx, 0:y[-1]+1:dy, 0:z[-1]+1:dz] # a '+1' is added\n",
    "    new_grid = np.moveaxis(new_grid, (0, 1, 2, 3), (3, 0, 1, 2))  # reorder axes for evaluation\n",
    "    imageOut = f(new_grid)\n",
    "    \n",
    "    # convert back to the same type as input (if it was an int, round first!)\n",
    "    dataType = image.dtype\n",
    "    if np.issubdtype(image[0,0,0],np.signedinteger) or np.issubdtype(image[0,0,0],np.unsignedinteger):\n",
    "        imageOut = np.round(imageOut)\n",
    "        \n",
    "    imageOut = imageOut.astype(dataType)\n",
    "    \n",
    "    return imageOut, new_spacing "
   ]
  },
  {
   "cell_type": "code",
   "execution_count": null,
   "metadata": {},
   "outputs": [],
   "source": [
    "def plot_resampled_block(df_coords_adjusted_, mask_resampled_, block_name_, pid_):\n",
    "    df_block = df_coords_adjusted_.loc[df_coords_adjusted_['nodule_in_block']==int(block_name_[-1])]\n",
    "    # Get the values from the DF\n",
    "    df_number_of_nodules = np.unique(df_block.cluster_id.values)\n",
    "    for nn in df_number_of_nodules:\n",
    "        df_nodule_freeze=df_coords_adjusted_.loc[df_coords_adjusted_['cluster_id']==nn] \n",
    "        zz = int(np.mean(df_nodule_freeze['small_coordsZ_resampled']))\n",
    "        xx = int(np.mean(df_nodule_freeze['small_coordsX']))\n",
    "        yy = int(np.mean(df_nodule_freeze['small_coordsY']))\n",
    "        # Get the resampled block\n",
    "        rect = patches.Rectangle((np.maximum(yy-20,0),np.maximum(xx-20,0)),40,40,linewidth=1,edgecolor='r',facecolor='none')\n",
    "        fig, ax = plt.subplots(1,1)\n",
    "        ax.set_title(f'{pid_}_{block_name_}\\n{zz,xx,yy}')\n",
    "        ax.imshow(mask_resampled_[zz])\n",
    "        ax.axis('off')\n",
    "        ax.add_patch(rect)"
   ]
  },
  {
   "cell_type": "code",
   "execution_count": null,
   "metadata": {},
   "outputs": [],
   "source": [
    "idx_all, k_all = [], []\n",
    "for idx, k in enumerate(LIDC_IDs):\n",
    "    idx_all.append(idx)\n",
    "    k_all.append(k)"
   ]
  },
  {
   "cell_type": "code",
   "execution_count": null,
   "metadata": {},
   "outputs": [],
   "source": [
    "idx_all[-5:], k_all[-5:]"
   ]
  },
  {
   "cell_type": "code",
   "execution_count": null,
   "metadata": {
    "scrolled": true
   },
   "outputs": [],
   "source": [
    "# Get all the scans for X patient(s)\n",
    "df = pd.read_csv('/data/datasets/LIDC-IDRI/annotations.csv')\n",
    "\n",
    "scans_with_errors = []\n",
    "errorScansFile = open(path_dest + \"scans_with_errors.txt\",\"w\")\n",
    "\n",
    "numVoxelsPerLungSeg = []\n",
    "listOfRejectedPatients = []\n",
    "rejectListFile = open(path_dest + \"rejectedPatients.txt\",\"w\") \n",
    "\n",
    "listOfUsedPatients = []\n",
    "useListFile = open(path_dest + \"usedPatients.txt\",\"w\") \n",
    "\n",
    "requiredSelemWidth = []\n",
    "selemZWidthFile = open(path_dest + \"segmentationSelemZWidths.txt\",\"w\") \n",
    "\n",
    "for idx, k in enumerate(LIDC_IDs):\n",
    "    # SCAN idx==41, 61 has an error\n",
    "    #errors with: LIDC-IDRI-0011, LIDC-IDRI-0344, LIDC-IDRI-0361\n",
    "#     if idx<=42:continue \n",
    "    if idx<932: continue\n",
    "#     if idx==5: break\n",
    "#     if idx <=10:continue\n",
    "#     if idx ==300:break\n",
    "\n",
    "    k = LIDC_IDs[idx]\n",
    "\n",
    "    #if idx>5:break\n",
    "    print(f'preprocessing: {idx}, {k}')\n",
    "       \n",
    "    df_patient = df.loc[df['patientid']==int(k[-4:])] \n",
    "    pid = k\n",
    "    \n",
    "    # query the LIDC images with patient_id = pid \n",
    "    # HERE WE JUST USE THE FIRST ONE!!\n",
    "    idx_scan = 0 \n",
    "    \n",
    "    # get the scan object for this scan\n",
    "    scan = pl.query(pl.Scan).filter(pl.Scan.patient_id == pid)[idx_scan] \n",
    "    \n",
    "    # here we can reject according to any criteria we like\n",
    "    thickSlice = (scan.slice_thickness > 3) | (scan.slice_spacing > 3)\n",
    "    missingSlices = len(np.unique(np.round(100*np.diff(scan.slice_zvals)))) != 1\n",
    "    if (thickSlice)  :\n",
    "        # we want to reject this scan/patient\n",
    "        print('Undesirable slice characteristics, rejecting')\n",
    "        listOfRejectedPatients.append(pid)\n",
    "        continue\n",
    "    elif (missingSlices):\n",
    "        print('Missing slices, rejecting')\n",
    "        listOfRejectedPatients.append(pid)\n",
    "        continue\n",
    "    else:\n",
    "        # we will use this scan\n",
    "        listOfUsedPatients.append(pid)\n",
    "        #continue # this lets us quickly check the outcome of the selection\n",
    "        \n",
    "    # V3.6 REPEAT THE STEPS FROM INPAINTING TO GET THE TRANSFORMED COORDINATES\n",
    "    path_data = path_data_alreadyprocessed\n",
    "    try:\n",
    "        vol_small, mask_maxvol_small, mask_maxvol_and_lungs_small, mask_lungs_small, min_box_channels, min_box_x, min_box_y = read_slices3D_v3(path_data, pid);\n",
    "    except FileNotFoundError: continue\n",
    "    slice_middle = np.shape(vol_small)[0] // 2\n",
    "    xmed_1, ymed_1, xmed_2, ymed_2 = erode_and_split_mask(mask_lungs_small,slice_middle)\n",
    "    coord_min_side1, coord_max_side1, coord_min_side2, coord_max_side2 = nodule_right_or_left_lung(mask_maxvol_small, slice_middle, xmed_1, ymed_1, xmed_2, ymed_2)\n",
    "    try:\n",
    "        c_zmin2, c_zmax2, c_xmin2, c_xmax2, c_ymin2, c_ymax2 = box_coords_contain_masks_right_size_search(coord_max_side2, coord_min_side2, 2, slice_middle, xmed_1, ymed_1, xmed_2, ymed_2, mask_lungs_small)\n",
    "        c_zmin1, c_zmax1, c_xmin1, c_xmax1, c_ymin1, c_ymax1 = box_coords_contain_masks_right_size_search(coord_max_side1, coord_min_side1, 1,  slice_middle, xmed_1, ymed_1, xmed_2, ymed_2, mask_lungs_small)\n",
    "    except ValueError: continue\n",
    "    block1, block1_mask, block1_mask_maxvol_and_lungs, block1_mask_lungs = get_four_blocks(vol_small, mask_maxvol_small, mask_maxvol_and_lungs_small, mask_lungs_small, c_zmin1, c_zmax1, c_xmin1, c_xmax1, c_ymin1, c_ymax1)\n",
    "    block2, block2_mask, block2_mask_maxvol_and_lungs, block2_mask_lungs = get_four_blocks(vol_small, mask_maxvol_small, mask_maxvol_and_lungs_small, mask_lungs_small, c_zmin2, c_zmax2, c_xmin2, c_xmax2, c_ymin2, c_ymax2)\n",
    "    blocks_ndl, blocks_ndl_mask, block_mask_maxvol_and_lungs, blocks_ndl_lungs, blocks_ndl_names, slice1, slice2 =  get_block_if_ndl(block1, block2, block1_mask, block2_mask, block1_mask_maxvol_and_lungs, block2_mask_maxvol_and_lungs, block1_mask_lungs, block2_mask_lungs)\n",
    "    \n",
    "    \n",
    "    print('Loading and converting to HU')\n",
    "    curr_patient_pixels, spacing_orig = custom_load_scan_to_HU(scan)\n",
    "\n",
    "    print('Resampling to isotropic resolution')\n",
    "    pix_resampled, spacing = resample_grid_except_slices(curr_patient_pixels, spacing_orig, [1,1,1])\n",
    "    \n",
    "#     print('Segmenting the lungs and dilating the mask')\n",
    "#     try:\n",
    "#         segmented_lungs_fill, requiredSelemWidthTmp = segment_lung_mask(pix_resampled, True)\n",
    "#     except IndexError: continue\n",
    "#     requiredSelemWidth.append(requiredSelemWidthTmp)\n",
    "#     # Dilate the mask\n",
    "#     selem = ball(1) # radius of 5 mm\n",
    "#     dilated = dilation(segmented_lungs_fill, selem) # dilate a bit according to the tut\n",
    "#     # Apply the mask\n",
    "#     pix_resampled_to_use = pix_resampled*dilated\n",
    "#     # count the number of lung voxels to find those which are badly segmented\n",
    "#     numVoxelsPerLungSeg.append(np.count_nonzero(dilated))\n",
    "    \n",
    "#     print('Finding nodule masks')\n",
    "#     # The mask\n",
    "#     # put the mask on an array with the same shape as the original volume\n",
    "#     one_segmentation_consensus = np.zeros_like(curr_patient_pixels)\n",
    "#     one_segmentation_maxvol = np.zeros_like(curr_patient_pixels)\n",
    "#     labelledNods = np.zeros_like(curr_patient_pixels)\n",
    "\n",
    "    # get all the annotations for this scan\n",
    "    ids = [i.id for i in scan.annotations] # this gives the annotation IDs (note that they are not in order in the annotations.csv)\n",
    "     \n",
    "    # we split the df for patient pid into the part for just this scan\n",
    "    df_patient_partX = df_patient.loc[df_patient.annotation_id.isin(ids)]\n",
    "    unique_nodules = np.unique(df_patient_partX['cluster_id'].values)\n",
    "    nods = scan.cluster_annotations() # get the annotations for all nodules in this scan\n",
    "\n",
    "    for idx_unique, unique_nodule in enumerate(unique_nodules):\n",
    "        if idx_unique == 0:\n",
    "            df_coords_adjusted = pd.DataFrame()\n",
    "        #if idx_unique==1:break\n",
    "        df_nodule = df_patient_partX.loc[df_patient_partX['cluster_id']==unique_nodule] # this gives all annotations for this nodule (cluster)\n",
    "        \n",
    "        # FIND THE TRANSFORMED COORDINATES \n",
    "        resampling_ratio = [j/i for i,j in zip(np.shape(curr_patient_pixels), np.shape(pix_resampled))]\n",
    "        df_coords_adj_temp, coord_adj_Z, coord_adj_X, coord_adj_Y = nodule_coords_in_small_resampled_versions2(df_nodule, resampling_ratio, min_box_x, min_box_y, min_box_channels,\n",
    "                                           slice_middle, xmed_1, ymed_1, xmed_2, ymed_2)\n",
    "        df_coords_adjusted = df_coords_adjusted.append(df_coords_adj_temp)\n",
    "        \n",
    "    # RESAMPLE ALONG THE SLICES THE ALREADY INPAINTED IMAGES    \n",
    "#     df_coords_adjusted.to_csv(f'{path_dest}pylidc_characteristics/{pid}.csv', index=False)\n",
    "#     del block1, block2, vol_small, mask_maxvol_small, mask_maxvol_and_lungs_small, mask_lungs_small\n",
    "    for id_block, (block, block_mask, block_maxvol_and_lungs, block_lungs, block_name) in enumerate(zip(blocks_ndl, blocks_ndl_mask, block_mask_maxvol_and_lungs, blocks_ndl_lungs, blocks_ndl_names)):\n",
    "        print(block_name)\n",
    "#         if id_block==1: break\n",
    "        # Get the inpainted and original image and the mask\n",
    "        try:\n",
    "            last = np.load(f'{path_already_inpainted}last/{pid}_{block_name}.npy')\n",
    "            last = np.squeeze(last)\n",
    "            orig = np.load(f'{path_already_inpainted}orig/{pid}_{block_name}.npy')\n",
    "            orig = np.squeeze(orig)\n",
    "            mask = np.load(f'{path_already_inpainted}masks nodules/{pid}_{block_name}.npz')\n",
    "            mask = mask.f.arr_0\n",
    "            mask_lungs = np.load(f'{path_already_inpainted}masks lungs/{pid}_{block_name}.npz')\n",
    "            mask_lungs = mask_lungs.f.arr_0\n",
    "        except FileNotFoundError: continue\n",
    "        \n",
    "        last_resampled, spacing = resample_grid_slices(last, spacing_orig, [1,1,1])\n",
    "        orig_resampled, spacing = resample_grid_slices(orig, spacing_orig, [1,1,1])\n",
    "        mask_resampled, spacing = resample_grid_slices(mask, spacing_orig, [1,1,1])\n",
    "        mask_lungs_resampled, spacing = resample_grid_slices(mask_lungs, spacing_orig, [1,1,1])\n",
    "        \n",
    "        np.save(f'{path_dest}arrays/last/{pid}_{block_name}.npy',last_resampled)\n",
    "        np.save(f'{path_dest}arrays/orig/{pid}_{block_name}.npy',orig_resampled)\n",
    "        np.savez_compressed(f'{path_dest}arrays/masks nodules/{pid}_{block_name}',mask_resampled)\n",
    "        np.savez_compressed(f'{path_dest}arrays/masks lungs/{pid}_{block_name}',mask_lungs_resampled)\n",
    "        \n",
    "        df_coords_adjusted['small_coordsZ_resampled'] = df_coords_adjusted.small_coordsZ.values * spacing_orig[0]\n",
    "        df_coords_adjusted.to_csv(f'{path_dest}pylidc_characteristics/{pid}.csv', index=False)\n",
    "#         plot_resampled_block(df_coords_adjusted, mask_resampled, block_name, pid)\n",
    "        \n",
    "#         np.save(f'{path_dest}arrays/last/{name}_{block_name}.npy',image_last)\n",
    "#         np.savez_compressed(f'{path_dest}arrays/masks nodules/{name}_{block_name}',block_mask)\n",
    "#         np.savez_compressed(f'{path_dest}arrays/masks lungs/{name}_{block_name}',block_lungs)\n",
    "\n",
    "\n",
    "#     print('Saving...')\n",
    "    # now we save the results, saving each slice as a sparse array to cut down on size!\n",
    "    # (currently just saving the last nodule per scan?)\n",
    "#     if not os.path.exists(f'{path_dest}{k}/scans'): os.makedirs(f'{path_dest}{k}/scans')\n",
    "#     if not os.path.exists(f'{path_dest}{k}/consensus_masks'): os.makedirs(f'{path_dest}{k}/consensus_masks')\n",
    "#     if not os.path.exists(f'{path_dest}{k}/maxvol_masks'): os.makedirs(f'{path_dest}{k}/maxvol_masks')\n",
    "#     if not os.path.exists(f'{path_dest}{k}/lung_masks'): os.makedirs(f'{path_dest}{k}/lung_masks')\n",
    "#     if not os.path.exists(f'{path_dest}{k}/cluster_id_images'): os.makedirs(f'{path_dest}{k}/cluster_id_images')\n",
    "#     if not os.path.exists(f'{path_dest}{k}/characteristics'): os.makedirs(f'{path_dest}{k}/characteristics')\n",
    "\n",
    "\n",
    "#     for idj,(slice_pix, slice_mask_consensus, slice_mask_maxvol,slice_lungseg, slice_cluster_id_image) in enumerate(zip(pix_resampled_to_use, mask_consensus_resampled, mask_maxvol_resampled,dilated,labelledNods_resampled)):\n",
    "#         sparse_matrix = scipy.sparse.csc_matrix(slice_pix)\n",
    "#         sparse_matrix2 = scipy.sparse.csc_matrix(slice_mask_consensus)\n",
    "#         sparse_matrix3 = scipy.sparse.csc_matrix(slice_mask_maxvol)\n",
    "#         sparse_matrix4 = scipy.sparse.csc_matrix(slice_lungseg)\n",
    "#         sparse_matrix5 = scipy.sparse.csc_matrix(slice_cluster_id_image)\n",
    "\n",
    "#         scipy.sparse.save_npz(f'{path_dest}{k}/scans/slice_{idj:04d}.npz', sparse_matrix, compressed=True)\n",
    "#         scipy.sparse.save_npz(f'{path_dest}{k}/consensus_masks/slice_m_{idj:04d}.npz', sparse_matrix2, compressed=True)\n",
    "#         scipy.sparse.save_npz(f'{path_dest}{k}/maxvol_masks/slice_m_{idj:04d}.npz', sparse_matrix3, compressed=True)\n",
    "#         scipy.sparse.save_npz(f'{path_dest}{k}/lung_masks/slice_m_{idj:04d}.npz', sparse_matrix4, compressed=True)\n",
    "#         scipy.sparse.save_npz(f'{path_dest}{k}/cluster_id_images/slice_m_{idj:04d}.npz', sparse_matrix5, compressed=True)\n",
    "        \n",
    "    #v4 \n",
    "    #resampling_ratio = [j/i for i,j in zip(np.shape(one_segmentation_maxvol), np.shape(mask_maxvol_resampled))]\n",
    "    #df_patient = nodule_coords_in_small_resampled_versions(df_patient, resampling_ratio, min_box_x, min_box_y, min_box_channels)\n",
    "    # Now we have the coordinates of the nodules in the smaller resampled volumes.\n",
    "    # But these volumes are further cropped into smaller regions\n",
    "    # df_patient.to_csv(f'{path_dest}pylidc_characteristics/{pid}.csv')\n",
    "\n",
    "# #%% save some summary output\n",
    "# np.savetxt(path_dest + 'segmentation_results.dat', numVoxelsPerLungSeg)\n",
    "\n",
    "# np.savetxt(rejectListFile,listOfRejectedPatients,'%10s')\n",
    "# rejectListFile.close()\n",
    "\n",
    "# np.savetxt(useListFile,listOfUsedPatients,'%10s')\n",
    "# useListFile.close()\n",
    "\n",
    "# np.savetxt(selemZWidthFile,requiredSelemWidth,'%u')\n",
    "# selemZWidthFile.close()\n",
    "\n",
    "# np.savetxt(errorScansFile,scans_with_errors,'%10s')\n",
    "# errorScansFile.close()\n",
    "\n",
    "# #%% plot segmentation results\n",
    "# # ax = plt.hist(numVoxelsPerLungSeg,100)\n",
    "# # plt.xlabel('Number of voxels in segmentation')"
   ]
  },
  {
   "cell_type": "code",
   "execution_count": null,
   "metadata": {},
   "outputs": [],
   "source": [
    "/data/OMM/Datasets/LIDC_other_formats/LIDC_preprocessed_3D v5 - save pylidc chars only/arrays/last"
   ]
  },
  {
   "cell_type": "code",
   "execution_count": null,
   "metadata": {},
   "outputs": [],
   "source": [
    "df_coords_adjusted"
   ]
  },
  {
   "cell_type": "code",
   "execution_count": null,
   "metadata": {},
   "outputs": [],
   "source": [
    "np.shape(mask_resampled)"
   ]
  },
  {
   "cell_type": "code",
   "execution_count": null,
   "metadata": {},
   "outputs": [],
   "source": []
  },
  {
   "cell_type": "code",
   "execution_count": null,
   "metadata": {},
   "outputs": [],
   "source": []
  },
  {
   "cell_type": "code",
   "execution_count": null,
   "metadata": {},
   "outputs": [],
   "source": [
    "# Get the values from the DF\n",
    "df_number_of_nodules = np.unique(df_coords_adjusted.cluster_id.values)\n",
    "len(df_number_of_nodules)\n",
    "df_nodule_freeze=df_coords_adjusted.loc[df_coords_adjusted['cluster_id']==df_number_of_nodules[-1]] \n",
    "zz = int(np.mean(df_nodule_freeze['small_coordsZ_resampled']))\n",
    "xx = int(np.mean(df_nodule_freeze['small_coordsX']))\n",
    "yy = int(np.mean(df_nodule_freeze['small_coordsY']))\n",
    "# Get the resampled block\n",
    "import matplotlib.patches as patches\n",
    "rect = patches.Rectangle((np.maximum(yy-20,0),np.maximum(xx-20,0)),40,40,linewidth=1,edgecolor='r',facecolor='none')\n",
    "fig, ax = plt.subplots(1,1)\n",
    "ax.imshow(labeled[zz])\n",
    "ax.add_patch(rect)"
   ]
  },
  {
   "cell_type": "code",
   "execution_count": null,
   "metadata": {},
   "outputs": [],
   "source": [
    "df_coords_adjusted.small_coordsZ.values"
   ]
  },
  {
   "cell_type": "code",
   "execution_count": null,
   "metadata": {},
   "outputs": [],
   "source": [
    "import matplotlib.patches as patches\n",
    "labeled, n_items = ndimage.label(mask_resampled)\n",
    "print(np.unique(labeled))\n",
    "print(n_items)\n",
    "z,x,y=np.where(labeled==1)\n",
    "zz = int(np.median(z))\n",
    "xx = int(np.median(x))\n",
    "yy = int(np.median(y))\n",
    "print(zz,xx,yy)\n",
    "rect = patches.Rectangle((yy-20,xx-20),40,40,linewidth=1,edgecolor='r',facecolor='none')\n",
    "fig, ax = plt.subplots(1,1)\n",
    "ax.imshow(labeled[zz])\n",
    "ax.add_patch(rect)"
   ]
  },
  {
   "cell_type": "code",
   "execution_count": null,
   "metadata": {},
   "outputs": [],
   "source": [
    "import matplotlib.patches as patches\n",
    "labeled, n_items = ndimage.label(one_segmentation_consensus)\n",
    "print(np.unique(labeled))\n",
    "print(n_items)\n",
    "z,x,y=np.where(labeled==2)\n",
    "zz = int(np.median(z))\n",
    "xx = int(np.median(x))\n",
    "yy = int(np.median(y))\n",
    "print(zz,xx,yy)\n",
    "rect = patches.Rectangle((yy-20,xx-20),40,40,linewidth=1,edgecolor='r',facecolor='none')\n",
    "fig, ax = plt.subplots(1,1)\n",
    "ax.imshow(labeled[72])\n",
    "ax.add_patch(rect)"
   ]
  },
  {
   "cell_type": "code",
   "execution_count": null,
   "metadata": {},
   "outputs": [],
   "source": [
    "labeled, n_items = ndimage.label(one_segmentation_maxvol)\n",
    "print(np.unique(labeled))\n",
    "print(n_items)\n",
    "z,x,y=np.where(labeled==3)\n",
    "zz = int(np.median(z))\n",
    "xx = int(np.median(x))\n",
    "yy = int(np.median(y))\n",
    "print(zz,xx,yy)\n",
    "plt.imshow(labeled[zz])"
   ]
  },
  {
   "cell_type": "code",
   "execution_count": null,
   "metadata": {},
   "outputs": [],
   "source": [
    "plt.imshow()"
   ]
  },
  {
   "cell_type": "code",
   "execution_count": null,
   "metadata": {},
   "outputs": [],
   "source": [
    "print(np.shape(vol_small))\n",
    "slice_middle"
   ]
  },
  {
   "cell_type": "code",
   "execution_count": null,
   "metadata": {},
   "outputs": [],
   "source": [
    "xmed_1, xmed_2, ymed_1, ymed_2, slice_middle"
   ]
  },
  {
   "cell_type": "code",
   "execution_count": null,
   "metadata": {},
   "outputs": [],
   "source": [
    "print(df_nodule.lidc_coordY.values)\n",
    "(df_nodule.lidc_coordY.values* resampling_ratio[2]) - np.min(min_box_y)"
   ]
  },
  {
   "cell_type": "code",
   "execution_count": null,
   "metadata": {},
   "outputs": [],
   "source": [
    "df_patient"
   ]
  },
  {
   "cell_type": "code",
   "execution_count": null,
   "metadata": {},
   "outputs": [],
   "source": [
    "df_nodule"
   ]
  },
  {
   "cell_type": "code",
   "execution_count": null,
   "metadata": {
    "cell_style": "split"
   },
   "outputs": [],
   "source": [
    "z,x,y=np.where(block2_mask==1)\n",
    "zz = int(np.median(z))\n",
    "xx = int(np.median(x))\n",
    "yy = int(np.median(y))\n",
    "print(zz,xx,yy)\n",
    "plt.imshow(block2_mask[zz])"
   ]
  },
  {
   "cell_type": "code",
   "execution_count": null,
   "metadata": {
    "cell_style": "split"
   },
   "outputs": [],
   "source": [
    "z,x,y=np.where(block1_mask==1)\n",
    "zz = int(np.median(z))\n",
    "xx = int(np.median(x))\n",
    "yy = int(np.median(y))\n",
    "print(zz,xx,yy)\n",
    "plt.imshow(block1_mask[zz])"
   ]
  },
  {
   "cell_type": "code",
   "execution_count": null,
   "metadata": {
    "cell_style": "split"
   },
   "outputs": [],
   "source": [
    "labeled2, n_objects = ndimage.label(block2_mask)\n",
    "n_objects"
   ]
  },
  {
   "cell_type": "code",
   "execution_count": null,
   "metadata": {
    "cell_style": "split"
   },
   "outputs": [],
   "source": [
    "labeled1, n_objects = ndimage.label(block1_mask)\n",
    "n_objects"
   ]
  },
  {
   "cell_type": "code",
   "execution_count": null,
   "metadata": {
    "cell_style": "split"
   },
   "outputs": [],
   "source": [
    "z,x,y=np.where(labeled2==0)\n",
    "zz = int(np.median(z))\n",
    "xx = int(np.median(x))\n",
    "yy = int(np.median(y))\n",
    "print(zz,xx,yy)\n",
    "plt.imshow(block2_mask[zz])"
   ]
  },
  {
   "cell_type": "code",
   "execution_count": null,
   "metadata": {
    "cell_style": "split"
   },
   "outputs": [],
   "source": [
    "z,x,y=np.where(labeled1==0)\n",
    "zz = int(np.median(z))\n",
    "xx = int(np.median(x))\n",
    "yy = int(np.median(y))\n",
    "print(zz,xx,yy)\n",
    "plt.imshow(block1_mask[zz])"
   ]
  },
  {
   "cell_type": "code",
   "execution_count": null,
   "metadata": {},
   "outputs": [],
   "source": [
    "df_patient"
   ]
  },
  {
   "cell_type": "code",
   "execution_count": null,
   "metadata": {},
   "outputs": [],
   "source": [
    "z,x,y=np.where(labeled2==0)\n",
    "len(z)"
   ]
  },
  {
   "cell_type": "code",
   "execution_count": null,
   "metadata": {
    "cell_style": "split"
   },
   "outputs": [],
   "source": [
    "np.unique(labeled2)"
   ]
  },
  {
   "cell_type": "code",
   "execution_count": null,
   "metadata": {
    "cell_style": "split"
   },
   "outputs": [],
   "source": [
    "np.unique(labeled1)"
   ]
  },
  {
   "cell_type": "code",
   "execution_count": null,
   "metadata": {},
   "outputs": [],
   "source": [
    "np.shape(block1_mask)"
   ]
  },
  {
   "cell_type": "code",
   "execution_count": null,
   "metadata": {},
   "outputs": [],
   "source": [
    "ndimage.label?"
   ]
  },
  {
   "cell_type": "code",
   "execution_count": null,
   "metadata": {},
   "outputs": [],
   "source": []
  },
  {
   "cell_type": "code",
   "execution_count": null,
   "metadata": {
    "cell_style": "split"
   },
   "outputs": [],
   "source": [
    "np.shape(blocks_ndl), blocks_ndl_names"
   ]
  },
  {
   "cell_type": "code",
   "execution_count": null,
   "metadata": {},
   "outputs": [],
   "source": [
    "resampling_ratio"
   ]
  },
  {
   "cell_type": "markdown",
   "metadata": {},
   "source": [
    "### tests to get the pylidc characteristics"
   ]
  },
  {
   "cell_type": "code",
   "execution_count": null,
   "metadata": {},
   "outputs": [],
   "source": [
    "resampling_ratio = [j/i for i,j in zip(np.shape(one_segmentation_maxvol), np.shape(mask_maxvol_resampled))]\n",
    "resampling_ratio"
   ]
  },
  {
   "cell_type": "code",
   "execution_count": null,
   "metadata": {},
   "outputs": [],
   "source": [
    "path_data = path_data_alreadyprocessed\n",
    "vol_small, mask_maxvol_small, mask_maxvol_and_lungs_small, mask_lungs_small, min_box_channels, min_box_x, min_box_y = read_slices3D_v3(path_data, pid);"
   ]
  },
  {
   "cell_type": "code",
   "execution_count": null,
   "metadata": {},
   "outputs": [],
   "source": [
    "df_patient = nodule_coords_in_small_resampled_versions(df_patient, resampling_ratio, min_box_x, min_box_y, min_box_channels)"
   ]
  },
  {
   "cell_type": "code",
   "execution_count": null,
   "metadata": {},
   "outputs": [],
   "source": [
    "df_patient"
   ]
  },
  {
   "cell_type": "code",
   "execution_count": null,
   "metadata": {},
   "outputs": [],
   "source": [
    "print(np.shape(one_segmentation_maxvol))\n",
    "print(np.shape(mask_maxvol_resampled))"
   ]
  },
  {
   "cell_type": "code",
   "execution_count": null,
   "metadata": {},
   "outputs": [],
   "source": [
    "z,x,y=np.where(one_segmentation_maxvol)\n",
    "zz = int(np.median(z))\n",
    "xx = int(np.median(x))\n",
    "yy = int(np.median(y))\n",
    "print(f'medians = {zz,xx,yy}')\n",
    "print(np.shape(one_segmentation_maxvol))\n",
    "plt.imshow(one_segmentation_maxvol[zz])"
   ]
  },
  {
   "cell_type": "code",
   "execution_count": null,
   "metadata": {},
   "outputs": [],
   "source": [
    "z,x,y=np.where(mask_maxvol_resampled)\n",
    "zz = int(np.median(z))\n",
    "xx = int(np.median(x))\n",
    "yy = int(np.median(y))\n",
    "print(f'medians = {zz,xx,yy}')\n",
    "print(np.shape(mask_maxvol_resampled))\n",
    "plt.imshow(mask_maxvol_resampled[zz])"
   ]
  },
  {
   "cell_type": "code",
   "execution_count": null,
   "metadata": {},
   "outputs": [],
   "source": [
    "np.shape(curr_patient_pixels), '->', np.shape(pix_resampled_to_use), "
   ]
  },
  {
   "cell_type": "code",
   "execution_count": null,
   "metadata": {},
   "outputs": [],
   "source": [
    "RESAMPLING_RATIO_Z = np.shape(pix_resampled_to_use)[0] / np.shape(curr_patient_pixels)[0]\n",
    "RESAMPLING_RATIO_X = np.shape(pix_resampled_to_use)[1] / np.shape(curr_patient_pixels)[1]\n",
    "RESAMPLING_RATIO_Y = np.shape(pix_resampled_to_use)[2] / np.shape(curr_patient_pixels)[2]\n",
    "RESAMPLING_RATIO_Z, RESAMPLING_RATIO_X, RESAMPLING_RATIO_Y"
   ]
  },
  {
   "cell_type": "code",
   "execution_count": null,
   "metadata": {},
   "outputs": [],
   "source": [
    "print(np.min(min_box_channels),np.max(min_box_channels))\n",
    "print(np.min(min_box_x),np.max(min_box_x))\n",
    "print(np.min(min_box_y),np.max(min_box_y))\n",
    "MIN_BOX_Z = np.min(min_box_channels)\n",
    "MIN_BOX_X = np.min(min_box_x)\n",
    "MIN_BOX_Y = np.min(min_box_y)\n",
    "MIN_BOX_Z, MIN_BOX_X, MIN_BOX_Y"
   ]
  },
  {
   "cell_type": "code",
   "execution_count": null,
   "metadata": {},
   "outputs": [],
   "source": [
    "print(cbbox)\n",
    "center_nodule_channels = int(np.floor(np.mean([cbbox[2].start, cbbox[2].stop])))\n",
    "center_nodule_x = int(np.floor(np.mean([cbbox[0].start, cbbox[0].stop])))\n",
    "center_nodule_y = int(np.floor(np.mean([cbbox[1].start, cbbox[1].stop])))\n",
    "print(center_nodule_channels, center_nodule_x, center_nodule_y)"
   ]
  },
  {
   "cell_type": "code",
   "execution_count": null,
   "metadata": {},
   "outputs": [],
   "source": [
    "cbbox"
   ]
  },
  {
   "cell_type": "code",
   "execution_count": null,
   "metadata": {},
   "outputs": [],
   "source": [
    "# Use RESAMPLING_RATIO_X, RESAMPLING_RATIO_Y and MIN_BOX_X, MIN_BOX_Y to get the coordinates in the small volume\n",
    "COORDZ = int(np.floor(np.mean([cbbox[2].start, cbbox[2].stop])* RESAMPLING_RATIO_Z)) - MIN_BOX_Z\n",
    "COORDX = int(np.floor(np.mean([cbbox[0].start, cbbox[0].stop])* RESAMPLING_RATIO_X)) - MIN_BOX_X\n",
    "COORDY = int(np.floor(np.mean([cbbox[1].start, cbbox[1].stop])* RESAMPLING_RATIO_Y)) - MIN_BOX_Y\n",
    "# These values should be very close to the ones obtained with the mask\n",
    "print(COORDZ, COORDX, COORDY)"
   ]
  },
  {
   "cell_type": "code",
   "execution_count": null,
   "metadata": {},
   "outputs": [],
   "source": [
    "# VALUES OBTAINED WITH THE MASK\n",
    "z,x,y=np.where(mask_maxvol_small)\n",
    "zz = int(np.median(z))\n",
    "xx = int(np.median(x))\n",
    "yy = int(np.median(y))\n",
    "print(f'medians = {zz,xx,yy}')\n",
    "plt.imshow(mask_maxvol_small[zz])"
   ]
  },
  {
   "cell_type": "code",
   "execution_count": null,
   "metadata": {},
   "outputs": [],
   "source": [
    "for block_name in blocks_ndl_names:\n",
    "    if block_name=='block2':\n",
    "        # Use RESAMPLING_RATIO_X, RESAMPLING_RATIO_Y and MIN_BOX_X, MIN_BOX_Y to get the coordinates in the small volume\n",
    "        COORDZ = int(np.floor(np.mean([cbbox[2].start, cbbox[2].stop])* RESAMPLING_RATIO_Z)) - MIN_BOX_Z\n",
    "        COORDX = int(np.floor(np.mean([cbbox[0].start, cbbox[0].stop])* RESAMPLING_RATIO_X)) - MIN_BOX_X\n",
    "        COORDY = int(np.floor(np.mean([cbbox[1].start, cbbox[1].stop])* RESAMPLING_RATIO_Y)) - MIN_BOX_Y\n",
    "        # These values should be very close to the ones obtained with the mask\n",
    "        print(COORDZ, COORDX, COORDY)"
   ]
  },
  {
   "cell_type": "code",
   "execution_count": null,
   "metadata": {},
   "outputs": [],
   "source": [
    "print(COORDZ - c_zmin2)\n",
    "print(COORDX - c_xmin2)\n",
    "print(COORDY - c_ymin2)"
   ]
  },
  {
   "cell_type": "code",
   "execution_count": null,
   "metadata": {},
   "outputs": [],
   "source": [
    "coords_in_small_cube = np.asarray(COORDZ, COORDX, COORDY)\n",
    "coords_center_cube1 = np.asarray(slice_middle, xmed_1, ymed_1)\n",
    "coords_center_cube2 = np.asarray(slice_middle, xmed_2, ymed_2)\n",
    "dist1 = np.linalg.norm(coords_in_small_cube - coords_center_cube1)\n",
    "dist2 = np.linalg.norm(coords_in_small_cube - coords_center_cube2)\n",
    "if dist1<dist2: print('1'); \n",
    "else: print('2')"
   ]
  },
  {
   "cell_type": "code",
   "execution_count": null,
   "metadata": {},
   "outputs": [],
   "source": [
    "df_nodule"
   ]
  },
  {
   "cell_type": "code",
   "execution_count": null,
   "metadata": {},
   "outputs": [],
   "source": [
    "df_patient['lidc_coordX'].values"
   ]
  },
  {
   "cell_type": "code",
   "execution_count": null,
   "metadata": {},
   "outputs": [],
   "source": [
    "df_nodule['lidc_coordX'].values"
   ]
  },
  {
   "cell_type": "code",
   "execution_count": null,
   "metadata": {},
   "outputs": [],
   "source": [
    "def nodule_coords_in_small_resampled_versions2(df, resampling_ratio, min_box_x, min_box_y, min_box_z,\n",
    "                                              COORDZ, COORDX, COORDY, slice_middle, xmed_1, ymed_1, xmed_2, ymed_2,\n",
    "                                              coords_in_small_cube, coords_center_cube1, coords_center_cube2):\n",
    "    '''\n",
    "    Get the coordinates of the nodules in the smaller resampled volumes.\n",
    "    This is done to be able to link each nodule to their pylidc labels\n",
    "    We need to get into account the resampling ratio and the number of voxels used during the\n",
    "    \"Find the minimum box that contain the lungs\" of the \"read_slices3D_v3\" function\n",
    "    '''\n",
    "    pd.options.mode.chained_assignment = None\n",
    "    coords_in_small_cube = np.asarray(COORDZ, COORDX, COORDY)\n",
    "    coords_center_cube1 = np.asarray(slice_middle, xmed_1, ymed_1)\n",
    "    coords_center_cube2 = np.asarray(slice_middle, xmed_2, ymed_2)\n",
    "    dist1 = np.linalg.norm(coords_in_small_cube - coords_center_cube1)\n",
    "    dist2 = np.linalg.norm(coords_in_small_cube - coords_center_cube2)\n",
    "    if dist1<dist2: \n",
    "        coord_adj_Z = ((np.mean(df['lidc_coordZ'].values) * resampling_ratio[0]) - np.min(min_box_z)) - c_zmin1\n",
    "        coord_adj_X = ((np.mean(df['lidc_coordX'].values) * resampling_ratio[1]) - np.min(min_box_x)) - c_xmin1\n",
    "        coord_adj_Y = ((np.mean(df['lidc_coordY'].values) * resampling_ratio[2]) - np.min(min_box_y)) - c_ymin1\n",
    "        print('1', coord_adj_Z, coord_adj_X, coord_adj_Y)\n",
    "        \n",
    "    else: \n",
    "        coord_adj_Z = ((np.mean(df['lidc_coordZ'].values) * resampling_ratio[0]) - np.min(min_box_z)) - c_zmin2\n",
    "        coord_adj_X = ((np.mean(df['lidc_coordX'].values) * resampling_ratio[1]) - np.min(min_box_x)) - c_xmin2\n",
    "        coord_adj_Y = ((np.mean(df['lidc_coordY'].values) * resampling_ratio[2]) - np.min(min_box_y)) - c_ymin2\n",
    "        print('2', coord_adj_Z, coord_adj_X, coord_adj_Y)\n",
    "    \n",
    "    #df['small_coordsZ']=\n",
    "    #df['small_coordsX']=\n",
    "    #df['small_coordsY']=\n",
    "    return coord_adj_Z, coord_adj_X, coord_adj_Y\n"
   ]
  },
  {
   "cell_type": "code",
   "execution_count": null,
   "metadata": {},
   "outputs": [],
   "source": [
    "nodule_coords_in_small_resampled_versions2(df_nodule, resampling_ratio, min_box_x, min_box_y, min_box_channels,\n",
    "                                           COORDZ, COORDX, COORDY, slice_middle, xmed_1, ymed_1, xmed_2, ymed_2,\n",
    "                                           coords_in_small_cube, coords_center_cube1, coords_center_cube2)"
   ]
  },
  {
   "cell_type": "code",
   "execution_count": null,
   "metadata": {},
   "outputs": [],
   "source": [
    "# Return the center of each lung (from the middle slice)\n",
    "slice_middle = np.shape(vol_small)[0] // 2\n",
    "xmed_1, ymed_1, xmed_2, ymed_2 = erode_and_split_mask(mask_lungs_small,slice_middle)\n",
    "xmed_1, ymed_1, xmed_2, ymed_2, slice_middle"
   ]
  },
  {
   "cell_type": "code",
   "execution_count": null,
   "metadata": {},
   "outputs": [],
   "source": [
    "# For each nodule determine if its closer to the right or left cube center.\n",
    "# Then return, for each side, the min and max coordianates of each nodule\n",
    "coord_min_side1, coord_max_side1, coord_min_side2, coord_max_side2 = nodule_right_or_left_lung(mask_maxvol_small, slice_middle, xmed_1, ymed_1, xmed_2, ymed_2)\n",
    "coord_min_side1, coord_max_side1, coord_min_side2, coord_max_side2"
   ]
  },
  {
   "cell_type": "code",
   "execution_count": null,
   "metadata": {},
   "outputs": [],
   "source": [
    "c_zmin2, c_zmax2, c_xmin2, c_xmax2, c_ymin2, c_ymax2 = [], [], [], [], [], []\n",
    "c_zmin2, c_zmax2, c_xmin2, c_xmax2, c_ymin2, c_ymax2 = box_coords_contain_masks_right_size_search(coord_max_side2, coord_min_side2, 2, slice_middle, xmed_1, ymed_1, xmed_2, ymed_2, mask_lungs_small)\n",
    "print(c_zmin2, c_zmax2, c_xmin2, c_xmax2, c_ymin2, c_ymax2)\n",
    "print(c_zmax2 - c_zmin2, c_xmax2 - c_xmin2, c_ymax2 - c_ymin2)"
   ]
  },
  {
   "cell_type": "code",
   "execution_count": null,
   "metadata": {},
   "outputs": [],
   "source": [
    "c_zmin1, c_zmax1, c_xmin1, c_xmax1, c_ymin1, c_ymax1 = [], [], [], [], [], []\n",
    "c_zmin1, c_zmax1, c_xmin1, c_xmax1, c_ymin1, c_ymax1 = box_coords_contain_masks_right_size_search(coord_max_side1, coord_min_side1, 1,  slice_middle, xmed_1, ymed_1, xmed_2, ymed_2, mask_lungs_small)\n",
    "print(c_zmin1, c_zmax1, c_xmin1, c_xmax1, c_ymin1, c_ymax1)\n",
    "print(c_zmax1 - c_zmin1, c_xmax1 - c_xmin1, c_ymax1 - c_ymin1)"
   ]
  },
  {
   "cell_type": "code",
   "execution_count": null,
   "metadata": {},
   "outputs": [],
   "source": [
    "# Block1 and Block2: lungs, ndl mask, lungs mask, ndl&lungs mask\n",
    "block1, block1_mask, block1_mask_maxvol_and_lungs, block1_mask_lungs = get_four_blocks(vol_small, mask_maxvol_small, mask_maxvol_and_lungs_small, mask_lungs_small, c_zmin1, c_zmax1, c_xmin1, c_xmax1, c_ymin1, c_ymax1)\n",
    "block2, block2_mask, block2_mask_maxvol_and_lungs, block2_mask_lungs = get_four_blocks(vol_small, mask_maxvol_small, mask_maxvol_and_lungs_small, mask_lungs_small, c_zmin2, c_zmax2, c_xmin2, c_xmax2, c_ymin2, c_ymax2)"
   ]
  },
  {
   "cell_type": "code",
   "execution_count": null,
   "metadata": {},
   "outputs": [],
   "source": [
    "z,x,y=np.where(block2_mask==1)\n",
    "zz = int(np.median(z))\n",
    "xx = int(np.median(x))\n",
    "yy = int(np.median(y))\n",
    "print(zz,xx,yy)\n",
    "plt.imshow(block2_mask[zz])"
   ]
  },
  {
   "cell_type": "code",
   "execution_count": null,
   "metadata": {},
   "outputs": [],
   "source": [
    "blocks_ndl, blocks_ndl_mask, block_mask_maxvol_and_lungs, blocks_ndl_lungs, blocks_ndl_names, slice1, slice2 =  get_block_if_ndl(block1, block2, block1_mask, block2_mask, block1_mask_maxvol_and_lungs, block2_mask_maxvol_and_lungs, block1_mask_lungs, block2_mask_lungs)"
   ]
  },
  {
   "cell_type": "code",
   "execution_count": null,
   "metadata": {},
   "outputs": [],
   "source": [
    "z,x,y=np.where(blocks_ndl_mask[0]==1)\n",
    "zz = int(np.median(z))\n",
    "xx = int(np.median(x))\n",
    "yy = int(np.median(y))\n",
    "print(zz,xx,yy)\n",
    "plt.imshow(blocks_ndl_mask[0][zz])"
   ]
  },
  {
   "cell_type": "code",
   "execution_count": null,
   "metadata": {},
   "outputs": [],
   "source": [
    "blocks_ndl_names"
   ]
  },
  {
   "cell_type": "code",
   "execution_count": null,
   "metadata": {},
   "outputs": [],
   "source": [
    "c_zmin2, c_zmax2, c_xmin2, c_xmax2, c_ymin2, c_ymax2"
   ]
  },
  {
   "cell_type": "code",
   "execution_count": null,
   "metadata": {},
   "outputs": [],
   "source": [
    "print(COORDZ-c_zmin2)\n",
    "print(COORDX-c_xmin2)\n",
    "print(COORDY-c_ymin2)"
   ]
  },
  {
   "cell_type": "code",
   "execution_count": null,
   "metadata": {},
   "outputs": [],
   "source": []
  },
  {
   "cell_type": "code",
   "execution_count": null,
   "metadata": {},
   "outputs": [],
   "source": [
    "z,x,y=np.where(mask_maxvol_small)\n",
    "zz = int(np.median(z))\n",
    "xx = int(np.median(x))\n",
    "yy = int(np.median(y))\n",
    "print(zz,xx,yy)\n",
    "plt.imshow(mask_maxvol_small[zz])"
   ]
  },
  {
   "cell_type": "code",
   "execution_count": null,
   "metadata": {},
   "outputs": [],
   "source": [
    "print(cbbox[2].start, cbbox[2].stop), \n",
    "center_nodule_channels = int(np.floor(np.mean([cbbox[2].start, cbbox[2].stop])))\n",
    "center_nodule_x = int(np.floor(np.mean([cbbox[0].start, cbbox[0].stop])))\n",
    "center_nodule_y = int(np.floor(np.mean([cbbox[1].start, cbbox[1].stop])))\n",
    "print(center_nodule, center_nodule_x, center_nodule_y)"
   ]
  },
  {
   "cell_type": "code",
   "execution_count": null,
   "metadata": {},
   "outputs": [],
   "source": [
    "print(np.shape(mask_maxvol_small))\n",
    "# To check that we are getting the right data \n",
    "# we get the center coords of the nodule and we substract the\n",
    "fig, ax = plt.subplots(1,2,figsize=(10,5))\n",
    "ax[0].imshow(vol_small[center_nodule-np.min(min_box_channels)])\n",
    "ax[1].imshow(mask_maxvol_small[center_nodule-np.min(min_box_channels)])\n",
    "print((center_nodule_x-np.min(min_box_x))-((np.shape(curr_patient_pixels)[1] - np.shape(pix_resampled_to_use)[1])//2))\n",
    "print((center_nodule_y-np.min(min_box_y))-((np.shape(curr_patient_pixels)[1] - np.shape(pix_resampled_to_use)[1])//2))\n",
    "print(center_nodule_x)\n",
    "print(center_nodule_y)\n",
    "np.shape(curr_patient_pixels)[1] - np.shape(pix_resampled_to_use)[1]"
   ]
  },
  {
   "cell_type": "code",
   "execution_count": null,
   "metadata": {},
   "outputs": [],
   "source": [
    "df_patient_partX['malignancy'].values"
   ]
  },
  {
   "cell_type": "code",
   "execution_count": null,
   "metadata": {},
   "outputs": [],
   "source": [
    "cbbox"
   ]
  },
  {
   "cell_type": "code",
   "execution_count": null,
   "metadata": {},
   "outputs": [],
   "source": [
    "print(np.shape(pix_resampled_to_use))\n",
    "plt.imshow(pix_resampled_to_use[90])"
   ]
  },
  {
   "cell_type": "code",
   "execution_count": null,
   "metadata": {},
   "outputs": [],
   "source": [
    "df_patient"
   ]
  },
  {
   "cell_type": "code",
   "execution_count": null,
   "metadata": {},
   "outputs": [],
   "source": [
    "df_patient_partX"
   ]
  },
  {
   "cell_type": "code",
   "execution_count": null,
   "metadata": {},
   "outputs": [],
   "source": [
    "slice_middle = np.shape(vol_small)[0] // 2\n",
    "xmed_1, ymed_1, xmed_2, ymed_2 = erode_and_split_mask(mask_lungs_small,slice_middle)\n",
    "xmed_1, ymed_1, xmed_2, ymed_2, slice_middle"
   ]
  },
  {
   "cell_type": "code",
   "execution_count": null,
   "metadata": {},
   "outputs": [],
   "source": [
    "slice_middle = np.shape(vol_small)[0] // 2\n",
    "np.shape(mask_lungs_small), np.shape(vol_small), slice_middle"
   ]
  },
  {
   "cell_type": "code",
   "execution_count": null,
   "metadata": {},
   "outputs": [],
   "source": [
    "coord_min_side1, coord_max_side1, coord_min_side2, coord_max_side2 = nodule_right_or_left_lung(mask_maxvol_small, slice_middle, xmed_1, ymed_1, xmed_2, ymed_2)\n",
    "coord_min_side1, coord_max_side1, coord_min_side2, coord_max_side2"
   ]
  },
  {
   "cell_type": "code",
   "execution_count": null,
   "metadata": {},
   "outputs": [],
   "source": [
    "c_zmin2, c_zmax2, c_xmin2, c_xmax2, c_ymin2, c_ymax2 = [], [], [], [], [], []\n",
    "c_zmin2, c_zmax2, c_xmin2, c_xmax2, c_ymin2, c_ymax2 = box_coords_contain_masks_right_size_search(coord_max_side2, coord_min_side2, 2, slice_middle, xmed_1, ymed_1, xmed_2, ymed_2, mask_lungs_small)\n",
    "print(c_zmin2, c_zmax2, c_xmin2, c_xmax2, c_ymin2, c_ymax2)\n",
    "print(c_zmax2 - c_zmin2, c_xmax2 - c_xmin2, c_ymax2 - c_ymin2)"
   ]
  },
  {
   "cell_type": "code",
   "execution_count": null,
   "metadata": {},
   "outputs": [],
   "source": [
    "c_zmin1, c_zmax1, c_xmin1, c_xmax1, c_ymin1, c_ymax1 = [], [], [], [], [], []\n",
    "c_zmin1, c_zmax1, c_xmin1, c_xmax1, c_ymin1, c_ymax1 = box_coords_contain_masks_right_size_search(coord_max_side1, coord_min_side1, 1,  slice_middle, xmed_1, ymed_1, xmed_2, ymed_2, mask_lungs_small)\n",
    "print(c_zmin1, c_zmax1, c_xmin1, c_xmax1, c_ymin1, c_ymax1)\n",
    "print(c_zmax1 - c_zmin1, c_xmax1 - c_xmin1, c_ymax1 - c_ymin1)"
   ]
  },
  {
   "cell_type": "code",
   "execution_count": null,
   "metadata": {},
   "outputs": [],
   "source": [
    "# Block1 and Block2: lungs, ndl mask, lungs mask, ndl&lungs mask\n",
    "block1, block1_mask, block1_mask_maxvol_and_lungs, block1_mask_lungs = get_four_blocks(vol_small, mask_maxvol_small, mask_maxvol_and_lungs_small, mask_lungs_small, c_zmin1, c_zmax1, c_xmin1, c_xmax1, c_ymin1, c_ymax1)\n",
    "block2, block2_mask, block2_mask_maxvol_and_lungs, block2_mask_lungs = get_four_blocks(vol_small, mask_maxvol_small, mask_maxvol_and_lungs_small, mask_lungs_small, c_zmin2, c_zmax2, c_xmin2, c_xmax2, c_ymin2, c_ymax2)"
   ]
  },
  {
   "cell_type": "code",
   "execution_count": null,
   "metadata": {},
   "outputs": [],
   "source": [
    "# Normalization is applied using the min and max of all images\n",
    "block1 = (block1 - (-1018.0))/(1171.0-(-1018.0)) \n",
    "block1 = np.clip(block1,0,1)\n",
    "block2 = (block2 - (-1018.0))/(1171.0-(-1018.0)) \n",
    "block2 = np.clip(block2,0,1)"
   ]
  },
  {
   "cell_type": "code",
   "execution_count": null,
   "metadata": {},
   "outputs": [],
   "source": [
    "# Apply lungs' mask\n",
    "block1 = block1*block1_mask_lungs\n",
    "block2 = block2*block2_mask_lungs"
   ]
  },
  {
   "cell_type": "code",
   "execution_count": null,
   "metadata": {},
   "outputs": [],
   "source": [
    "blocks_ndl, blocks_ndl_mask, block_mask_maxvol_and_lungs, blocks_ndl_lungs, blocks_ndl_names, slice1, slice2 =  get_block_if_ndl(block1, block2, block1_mask, block2_mask, block1_mask_maxvol_and_lungs, block2_mask_maxvol_and_lungs, block1_mask_lungs, block2_mask_lungs)"
   ]
  },
  {
   "cell_type": "code",
   "execution_count": null,
   "metadata": {},
   "outputs": [],
   "source": [
    "set_all_rcParams(False)\n",
    "fig, ax = plt.subplots(2,5,figsize=(14,7))\n",
    "ax[0,0].imshow(block1[slice1])\n",
    "ax[0,1].imshow(block1_mask[slice1]) \n",
    "ax[0,2].imshow(block1_mask_maxvol_and_lungs[slice1])\n",
    "ax[0,3].imshow(block1_mask_lungs[slice1])\n",
    "ax[0,4].hist(block1.flatten(),bins=80);\n",
    "ax[1,0].imshow(block2[slice2]) \n",
    "ax[1,1].imshow(block2_mask[slice2]) \n",
    "ax[1,2].imshow(block2_mask_maxvol_and_lungs[slice2])\n",
    "ax[1,3].imshow(block2_mask_lungs[slice2])\n",
    "ax[1,4].hist(block2.flatten(),bins=80);\n",
    "fig.tight_layout()"
   ]
  },
  {
   "cell_type": "markdown",
   "metadata": {},
   "source": [
    "##"
   ]
  },
  {
   "cell_type": "code",
   "execution_count": null,
   "metadata": {},
   "outputs": [],
   "source": []
  },
  {
   "cell_type": "code",
   "execution_count": null,
   "metadata": {},
   "outputs": [],
   "source": []
  },
  {
   "cell_type": "code",
   "execution_count": null,
   "metadata": {},
   "outputs": [],
   "source": []
  },
  {
   "cell_type": "code",
   "execution_count": null,
   "metadata": {},
   "outputs": [],
   "source": []
  },
  {
   "cell_type": "code",
   "execution_count": null,
   "metadata": {},
   "outputs": [],
   "source": [
    "slice_n = 90\n",
    "print(f'original shape {np.shape(curr_patient_pixels), spacing}')\n",
    "print(f'resampled shape {np.shape(pix_resampled)}')\n",
    "print(np.shape(pix_resampled_to_use),np.shape(mask_maxvol_resampled))\n",
    "fig, ax = plt.subplots(1,3, figsize=(14,5))\n",
    "ax[0].imshow(curr_patient_pixels[slice_n])\n",
    "ax[1].imshow(pix_resampled_to_use[slice_n])\n",
    "ax[2].imshow(mask_maxvol_resampled[slice_n])"
   ]
  },
  {
   "cell_type": "markdown",
   "metadata": {},
   "source": [
    "---"
   ]
  },
  {
   "cell_type": "markdown",
   "metadata": {},
   "source": [
    "---"
   ]
  },
  {
   "cell_type": "code",
   "execution_count": null,
   "metadata": {},
   "outputs": [],
   "source": [
    "def make3d_from_sparse(path):\n",
    "    slices_all = os.listdir(path)\n",
    "    slices_all = np.sort(slices_all)\n",
    "    for idx, i in enumerate(slices_all):\n",
    "        sparse_matrix = sparse.load_npz(f'{path}{i}')\n",
    "        array2d = np.asarray(sparse_matrix.todense())\n",
    "        if idx == 0: \n",
    "            scan3d = array2d\n",
    "            continue\n",
    "        scan3d = np.dstack([scan3d,array2d])\n",
    "    return scan3d"
   ]
  },
  {
   "cell_type": "code",
   "execution_count": null,
   "metadata": {},
   "outputs": [],
   "source": [
    "name = 'LIDC-IDRI-0001'"
   ]
  },
  {
   "cell_type": "code",
   "execution_count": null,
   "metadata": {},
   "outputs": [],
   "source": [
    "f'{path_data}{name}/scans/'"
   ]
  },
  {
   "cell_type": "code",
   "execution_count": null,
   "metadata": {},
   "outputs": [],
   "source": [
    "def read_slices3D_v2(path_data, ii_ids):\n",
    "    \"\"\"Read VOLUMES of lung, mask outside lungs and nodule, mask nodule, mask outside\"\"\"\n",
    "    #ii_ids = f'LIDC-IDRI-{idnumber:04d}'\n",
    "    print(f'reading scan {ii_ids}')\n",
    "    vol = make3d_from_sparse(f'{path_data}{ii_ids}/scans/')\n",
    "    mask = make3d_from_sparse(f'{path_data}{ii_ids}/consensus_masks/')\n",
    "    mask_maxvol = make3d_from_sparse(f'{path_data}{ii_ids}/maxvol_masks/')\n",
    "    mask_lungs = make3d_from_sparse(f'{path_data}{ii_ids}/lung_masks/')  \n",
    "    # rearrange axes to slices first\n",
    "    vol = np.swapaxes(vol,1,2)\n",
    "    vol = np.swapaxes(vol,0,1)\n",
    "    mask = np.swapaxes(mask,1,2)\n",
    "    mask = np.swapaxes(mask,0,1)\n",
    "    mask_maxvol = np.swapaxes(mask_maxvol,1,2)\n",
    "    mask_maxvol = np.swapaxes(mask_maxvol,0,1)\n",
    "    mask_lungs = np.swapaxes(mask_lungs,1,2)\n",
    "    mask_lungs = np.swapaxes(mask_lungs,0,1)\n",
    "    # Find the minimum box that contain the lungs \n",
    "    min_box = np.where(vol!=0)\n",
    "    min_box_c = min_box[0]\n",
    "    min_box_x = min_box[1]\n",
    "    min_box_y = min_box[2]\n",
    "    # Apply the minimum box to the vol and masks\n",
    "    vol_small = vol[np.min(min_box_c):np.max(min_box_c),np.min(min_box_x):np.max(min_box_x),np.min(min_box_y):np.max(min_box_y)]\n",
    "    mask_small = mask[np.min(min_box_c):np.max(min_box_c),np.min(min_box_x):np.max(min_box_x),np.min(min_box_y):np.max(min_box_y)]\n",
    "    mask_maxvol_small = mask_maxvol[np.min(min_box_c):np.max(min_box_c),np.min(min_box_x):np.max(min_box_x),np.min(min_box_y):np.max(min_box_y)]\n",
    "    mask_lungs_small = mask_lungs[np.min(min_box_c):np.max(min_box_c),np.min(min_box_x):np.max(min_box_x),np.min(min_box_y):np.max(min_box_y)] \n",
    "    # Get the mask_maxvol_small and the mask_lungs_small together\n",
    "    mask_maxvol_and_lungs = 1- ((1-mask_lungs_small) | mask_maxvol_small)\n",
    "    mask_lungs_small2 = mask_lungs_small | mask_maxvol_small\n",
    "    return vol_small, mask_maxvol_small, mask_maxvol_and_lungs, mask_lungs_small2"
   ]
  },
  {
   "cell_type": "code",
   "execution_count": null,
   "metadata": {},
   "outputs": [],
   "source": [
    "vol_small, mask_maxvol_small, mask_maxvol_and_lungs_small, mask_lungs_small = read_slices3D_v2(path_dest, 'LIDC-IDRI-0001')"
   ]
  },
  {
   "cell_type": "code",
   "execution_count": null,
   "metadata": {},
   "outputs": [],
   "source": [
    "ii = 59+12\n",
    "fig, ax = plt.subplots(1,4,figsize=(14,4))\n",
    "ax[0].imshow(vol_small[ii])\n",
    "ax[1].imshow(mask_maxvol_small[ii])\n",
    "ax[2].imshow(mask_maxvol_and_lungs_small[ii])\n",
    "ax[3].imshow(mask_lungs_small[ii])"
   ]
  },
  {
   "cell_type": "code",
   "execution_count": null,
   "metadata": {},
   "outputs": [],
   "source": [
    "ii = 59+12\n",
    "fig, ax = plt.subplots(1,4,figsize=(14,4))\n",
    "ax[0].imshow(vol_small[ii])\n",
    "ax[1].imshow(mask_maxvol_small[ii])\n",
    "ax[2].imshow(mask_maxvol_and_lungs_small[ii])\n",
    "ax[3].imshow(mask_lungs_small[ii])"
   ]
  },
  {
   "cell_type": "code",
   "execution_count": null,
   "metadata": {},
   "outputs": [],
   "source": []
  },
  {
   "cell_type": "code",
   "execution_count": null,
   "metadata": {},
   "outputs": [],
   "source": []
  },
  {
   "cell_type": "code",
   "execution_count": null,
   "metadata": {},
   "outputs": [],
   "source": []
  },
  {
   "cell_type": "code",
   "execution_count": null,
   "metadata": {},
   "outputs": [],
   "source": []
  },
  {
   "cell_type": "code",
   "execution_count": null,
   "metadata": {},
   "outputs": [],
   "source": []
  },
  {
   "cell_type": "code",
   "execution_count": null,
   "metadata": {},
   "outputs": [],
   "source": [
    "for i in tqdm_notebook(np.arange(1,10)):\n",
    "    name = f'LIDC-IDRI-{i:04d}'\n",
    "    print(name)\n",
    "    vol_small, mask_maxvol_small, mask_maxvol_and_lungs, mask_lungs_small = read_slices3D(name)\n",
    "    z,x,y = np.where(mask_maxvol_small==1)\n",
    "    z_median = np.median(z)\n",
    "    slice_n = int(z_median)\n",
    "    fig, ax = plt.subplots(1,4, figsize=(14,5))\n",
    "    ax[0].imshow(vol_small[slice_n], vmin=0, vmax=1)\n",
    "    ax[1].imshow(mask_maxvol_small[slice_n])\n",
    "    ax[2].imshow(mask_maxvol_and_lungs[slice_n])\n",
    "    ax[3].imshow(mask_lungs_small[slice_n])"
   ]
  },
  {
   "cell_type": "code",
   "execution_count": null,
   "metadata": {},
   "outputs": [],
   "source": []
  },
  {
   "cell_type": "code",
   "execution_count": null,
   "metadata": {},
   "outputs": [],
   "source": []
  },
  {
   "cell_type": "code",
   "execution_count": null,
   "metadata": {},
   "outputs": [],
   "source": [
    "i = 'LIDC-IDRI-0001'\n",
    "lungs = make3d_from_sparse(f'{path_dest}{i}/scans/')\n",
    "mask = make3d_from_sparse(f'{path_dest}{i}/maxvol_masks/')\n",
    "mask_lungs = make3d_from_sparse(f'{path_dest}{i}/lung_masks/')"
   ]
  },
  {
   "cell_type": "code",
   "execution_count": null,
   "metadata": {},
   "outputs": [],
   "source": [
    "np.where(mask==1)"
   ]
  },
  {
   "cell_type": "code",
   "execution_count": null,
   "metadata": {},
   "outputs": [],
   "source": [
    "# rearrange axes to slices first\n",
    "vol = lungs\n",
    "vol = np.swapaxes(vol,1,2)\n",
    "vol = np.swapaxes(vol,0,1)\n",
    "mask = np.swapaxes(mask,1,2)\n",
    "mask = np.swapaxes(mask,0,1)\n",
    "mask_lungs = np.swapaxes(mask_lungs,1,2)\n",
    "mask_lungs = np.swapaxes(mask_lungs,0,1)\n",
    "# Find the minimum box that contain the lungs \n",
    "min_box = np.where(vol!=0)\n",
    "min_box_c = min_box[0]\n",
    "min_box_x = min_box[1]\n",
    "min_box_y = min_box[2]\n",
    "vol_small = vol[np.min(min_box_c):np.max(min_box_c),np.min(min_box_x):np.max(min_box_x),np.min(min_box_y):np.max(min_box_y)]\n",
    "# Apply the same minimum box to the mask\n",
    "mask_small = mask[np.min(min_box_c):np.max(min_box_c),np.min(min_box_x):np.max(min_box_x),np.min(min_box_y):np.max(min_box_y)]\n",
    "mask_lungs_small = mask_lungs[np.min(min_box_c):np.max(min_box_c),np.min(min_box_x):np.max(min_box_x),np.min(min_box_y):np.max(min_box_y)]\n",
    "lungs = vol_small\n",
    "mask = mask_small\n",
    "mask_lungs = mask_lungs_small\n",
    "np.shape(lungs), np.shape(mask), np.shape(mask_lungs)"
   ]
  },
  {
   "cell_type": "code",
   "execution_count": null,
   "metadata": {},
   "outputs": [],
   "source": [
    "slice_n=70\n",
    "fig, ax = plt.subplots(1,3, figsize=(14,5))\n",
    "ax[0].imshow(lungs[slice_n])\n",
    "ax[1].imshow(mask[slice_n])\n",
    "ax[2].imshow(mask_lungs_small[slice_n])"
   ]
  },
  {
   "cell_type": "code",
   "execution_count": null,
   "metadata": {},
   "outputs": [],
   "source": []
  }
 ],
 "metadata": {
  "kernelspec": {
   "display_name": "Python 3",
   "language": "python",
   "name": "python3"
  },
  "language_info": {
   "codemirror_mode": {
    "name": "ipython",
    "version": 3
   },
   "file_extension": ".py",
   "mimetype": "text/x-python",
   "name": "python",
   "nbconvert_exporter": "python",
   "pygments_lexer": "ipython3",
   "version": "3.6.5"
  },
  "varInspector": {
   "cols": {
    "lenName": 16,
    "lenType": 16,
    "lenVar": 40
   },
   "kernels_config": {
    "python": {
     "delete_cmd_postfix": "",
     "delete_cmd_prefix": "del ",
     "library": "var_list.py",
     "varRefreshCmd": "print(var_dic_list())"
    },
    "r": {
     "delete_cmd_postfix": ") ",
     "delete_cmd_prefix": "rm(",
     "library": "var_list.r",
     "varRefreshCmd": "cat(var_dic_list()) "
    }
   },
   "types_to_exclude": [
    "module",
    "function",
    "builtin_function_or_method",
    "instance",
    "_Feature"
   ],
   "window_display": false
  }
 },
 "nbformat": 4,
 "nbformat_minor": 2
}
